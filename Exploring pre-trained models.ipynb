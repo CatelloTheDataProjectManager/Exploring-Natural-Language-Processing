{
 "cells": [
  {
   "cell_type": "markdown",
   "id": "3165ceb2",
   "metadata": {},
   "source": [
    "# Exploring pre-trained models : GPT-2, BERT, ChatGPT🤖\n"
   ]
  },
  {
   "cell_type": "markdown",
   "id": "d9c43f13",
   "metadata": {},
   "source": [
    "# GPT-2\n",
    "\n",
    "GPT-2 (Generative Pre-trained Transformer 2) is a language model developed by OpenAI that is capable of generating coherent and contextually relevant sentences. It is trained on a large dataset of text from the internet and uses a transformer architecture to generate text one word at a time. GPT-2 can be fine-tuned for a variety of natural language processing tasks, such as translation, summarization, and question answering."
   ]
  },
  {
   "cell_type": "markdown",
   "id": "8b86d7aa",
   "metadata": {},
   "source": [
    "### Libraries"
   ]
  },
  {
   "cell_type": "code",
   "execution_count": 31,
   "id": "60e2feac",
   "metadata": {},
   "outputs": [],
   "source": [
    "import pandas as pd"
   ]
  },
  {
   "cell_type": "code",
   "execution_count": 5,
   "id": "f125ebf1",
   "metadata": {},
   "outputs": [
    {
     "name": "stdout",
     "output_type": "stream",
     "text": [
      "2.2.1+cpu\n"
     ]
    }
   ],
   "source": [
    "#!pip install torch\n",
    "import torch\n",
    "print(torch.__version__)"
   ]
  },
  {
   "cell_type": "code",
   "execution_count": 6,
   "id": "4f1f4711",
   "metadata": {},
   "outputs": [
    {
     "name": "stdout",
     "output_type": "stream",
     "text": [
      "4.39.0\n"
     ]
    }
   ],
   "source": [
    "#!pip install transformers\n",
    "import transformers\n",
    "print(transformers.__version__)"
   ]
  },
  {
   "cell_type": "code",
   "execution_count": 7,
   "id": "5194c108",
   "metadata": {},
   "outputs": [
    {
     "name": "stdout",
     "output_type": "stream",
     "text": [
      "2.16.1\n"
     ]
    }
   ],
   "source": [
    "#!pip install tensorflow\n",
    "#!pip install tf-keras\n",
    "import tensorflow\n",
    "print(tf.__version__)"
   ]
  },
  {
   "cell_type": "markdown",
   "id": "5a4cc6c8",
   "metadata": {},
   "source": [
    "### Text generation"
   ]
  },
  {
   "cell_type": "code",
   "execution_count": 27,
   "id": "389ab4f5",
   "metadata": {},
   "outputs": [
    {
     "name": "stderr",
     "output_type": "stream",
     "text": [
      "Truncation was not explicitly activated but `max_length` is provided a specific value, please use `truncation=True` to explicitly truncate examples to max length. Defaulting to 'longest_first' truncation strategy. If you encode pairs of sequences (GLUE-style) with the tokenizer you can select this strategy more precisely by providing a specific strategy to `truncation`.\n",
      "Setting `pad_token_id` to `eos_token_id`:50256 for open-end generation.\n"
     ]
    },
    {
     "name": "stdout",
     "output_type": "stream",
     "text": [
      "Once upon a time, there was a little girl who lived in a village near the forest. Whenever she went out, the little girl wore a red riding cloak, so everyone in the village called her Little Red Riding Hood. She loved to ride all over the forest, and was always well-behaved. She came to the village often to enjoy the view outside after sunset—even when the weather wasn't perfect. But every year, as she got used to more and more of all things sunny and nice, she got tired of doing her jobs. When the sun rose out and you were no longer in the forest, she would call up their parents and say, \"How long are you going on with your life?\" Little Red Riding Hood would ask for her to leave. If they didn't come, she didn't even need to leave—she just needed to stay because that's what she did with her friends every day. There was never a day that she didn't look forward to spending time with her friends, her family, her school, and family who never came to see her. They all loved her, including the one who always called back when she couldn't be seen.\n",
      "\n",
      "The little girl that did the work had a sense of entitlement, she thought. She was so lucky to have a long life, she thought now and then that her ability to do good or good or goodness is over. As an adult she never felt like she had an outlet, and had no desire to go home and put those feelings down. As her life got harder and harder, she came to realize that everyone's experiences have little to do with how much she makes.\n",
      "\n",
      "Then came the fall that summer. A rainy and dreary day in December. Little Red Riding Hood, in her red riding cloak and dark gray dress (with dark hair, no eyebrows), would walk into a store and buy a gallon of water. That was the only thing she had ever wanted to do. She wanted enough milk, or milk and milk. It only took a couple of minutes to break her legs. Little Red Riding Hood sat down on a couch at the front of the store, took a bucket of flour, and added milk. They started out by sitting on the floor. She looked over, and saw a group of people standing round one end of the table with coffee cups to sell. They poured over some water and tossed to the men; no one thought to pour anything over again\n",
      "Once upon a time, there was a little girl who lived in a village near the forest. Whenever she went out, the little girl wore a red riding cloak, so everyone in the village called her Little Red Riding Hood.\n",
      "\n",
      "She was the girl who had just turned 17.\n",
      "\n",
      "In the beginning, her mother would put her on for a few days at the back of her carriage. By Sunday afternoon, her Uncle would bring her into the village; at her village the girl had to go out on her knees. During the five days the girl went out, they would sometimes have a conversation about the girl's life. It was an evening together with the Uncle.\n",
      "\n",
      "The girl from the village lived with the little guy, but there were times when a little girl would need to go away. When the boy came to a place or two to visit, the girl said that this boy was coming too, but it wasn't necessary to stop him or the girl. When both of them went home, something happened. The girl from the village went out, and the boy from the village came to her house. The girls from the village went home, and the boy from the village came to hers. The little girl went out on her knees, and the girl from the village lived in her carriage.\n",
      "\n",
      "From then on, even then, there was a very common practice, where the girl from the village would accompany the little guy. The children would go about their day and do their best. Even the two were always to go to the village for a special treat: the girls would sit and do good work together.\n",
      "\n",
      "It was when the girl from the village visited the house that the boy from the village appeared. The boy from the village would always bring his carriage with him, and I would sit with him in the back; on that ride, the child would walk, and the little boy would drive. He had many shoes to wear, and all the little girl wore was her clothes.\n",
      "\n",
      "There are many stories about Little Red Riding Hood's adventures and adventures in the history books. For example, I was sitting down to a story on the island of the island called Maakai. Maakai became a place of refuge for young people in North America, because it is the island where some people from the islands go to pray for the return of the gods at night.\n",
      "\n",
      "My mother and aunt were just getting into the boat when I heard\n",
      "Once upon a time, there was a little girl who lived in a village near the forest. Whenever she went out, the little girl wore a red riding cloak, so everyone in the village called her Little Red Riding Hood.\n",
      "\n",
      "She did not see anything different about her other relatives, however. The villagers were not that great in life, but it was only recently that they were interested in her and had taken her to the local inn after dinner. After the first part of these experiences, she left without seeing anything different.\n",
      "\n",
      "When that time came again, the two of them got a very close kiss in town.\n",
      "\n",
      "After all, there was only one little girl with a very good body, and she was a girl who would definitely do anything for the honor of her family.\n",
      "\n",
      "Although they could not meet anymore of the people of a village, but they didn't feel that their existence was different.\n",
      "\n",
      "\"I really liked my mom. Is her a good girl. She's such a lovely little girl.\"\n",
      "\n",
      "When they were talking, the man who lived next door called out \"You came to greet her.\"\n",
      "\n",
      "\"This is the same family that lives next door, right?\"\n",
      "\n",
      "A little girl was always with them, but right now, her status seemed to have changed.\n",
      "\n",
      "Because that little bit of girl she mentioned was in the same group as me, this thought gradually grew in her mind. A lot of people were always happy for her.\n",
      "\n",
      "In the olden era, there were only those who wished to take on more responsibility, because they wished to make their families less busy. Even today, everyone who was happy for a little girl was a little child or a girl who needed their parents to be happy.\n",
      "\n",
      "No matter what's the reason, this had always been the case.\n",
      "\n",
      "\"Mother, it's really good for you this much. It's really good when we have such good times with each other, and it's really good when you don't get much from our parents or that mother.\"\n",
      "\n",
      "The man who lived next door looked at me with a serious expression.\n",
      "\n",
      "\"I do have more responsibilities, huh? Do you really have to worry about them all at once, right?\"\n",
      "\n",
      "His voice was quiet as he said this.\n",
      "\n",
      "\"A little child, that's right. When you get to the house of your mother, all of those things will definitely\n",
      "Once upon a time, there was a little girl who lived in a village near the forest. Whenever she went out, the little girl wore a red riding cloak, so everyone in the village called her Little Red Riding Hood. Little Red Riding Hood was a bit of a big trouble, so she always wore the same color. The only reason she came to such high school was when the kids went out to play with Little Red Riding Hood, but then she became a little girl, started playing with those guys and started playing with them as well, and it became a big thing. The boy girl was named Princess Blue. She was the princess of the school and she was the princess' teacher. He used to get the girl on his doorstep with him all the time and she used to always get out of the house, and she was always going over from school, but then as soon as he came home he came in, and he was always right there in the house. He thought Little Purple was going out, so he said she can go into the school and play with you. So with Little Red Riding Hood he gave her that and she would stay with him every day for many years. She would take things to school and get dressed and go for home.\n",
      "The old teacher once told a story about the old man before he died saying that when he was a little kid he took a bunch of people's old clothes and they carried them. On their way back home from school, they got caught stealing that old clothes, and then on the way to school when they came to the village from the village they spotted a figure walking on the road, like a little girl. Then a policeman came and they said Princess Green (Poppa) said \"I thought something must have happened to you.\" The policeman called Little Green, and she answered her mother's question, and then Princess Green started walking on her back and went home.\n",
      "Little Red Riding Hood\n",
      "Little Red Riding Hood is a very powerful character in Legend of the Dark Knight Rises, where she's often seen in the background and in action. She is voiced by Chris Bensky. The story took place before and during the events of the movie The Nightmare of the Living Dead and it was taken from a website in which a user on the website described seeing an evil girl and being sad about it and it started taking her on, she said, and I think there's a scene where she tells her parents, \"This\n",
      "Once upon a time, there was a little girl who lived in a village near the forest. Whenever she went out, the little girl wore a red riding cloak, so everyone in the village called her Little Red Riding Hood. At night, she would get herself drunk before any of the villagers would let her go out alone. She would only wear one red cloak during the night, after she got drunk.\n",
      "\n",
      "The village that she lived in looked like an old house. The white house had a few rooms filled with shops and other goods that were brought to it by the people. The girls were often able to enter the house by themselves while they were in summer or early in winter and were able to take in all of the goods the village had and purchase them at the market.\n",
      "\n",
      "Even though they would usually go there themselves, if they were still young enough before they could make it to the Market, there was a rumor that all of the village's people would not dare come to the Market. When they were young enough, they would only take in one thing in case of a problem.\n",
      "\n",
      "Since her name was Little Red Riding Hood, he would not know why. If she ever got angry or made trouble with the villagers, he would take her to the Market, and there would be no trouble. But even then, sometimes the villagers would refuse her entry or would take her out of the Town. He would not leave the Village as soon as the people were out.\n",
      "\n",
      "\"I never told you that her name is Little Red Riding Hood.\"\n",
      "\n",
      "\"Yes, she is the child that you used to call yourself.\"\n",
      "\n",
      "\"Yes, of course. She is.\"\n",
      "\n",
      "\"Yes, I did have this very same name before.\"\n",
      "\n",
      "\"Yes… I was that old lady's wife, right?\"\n",
      "\n",
      "When he heard it, Little Red Riding Hood smiled at him and said, \"Are you going to be the one to get revenge for her?\"\n",
      "\n",
      "\"Yes…\"\n",
      "\n",
      "The village girl that he had asked about and what had happened to her had a strong, very strong body as her name, and his body was actually filled with blood and so heavy that he could barely walk. It was as though his body was filled with blood as well.\n",
      "\n",
      "His body was filled with blood and was covered in blood. \"Is it okay to be that person's daughter?\"\n",
      "\n",
      "When the village girl had finally calmed down,\n"
     ]
    }
   ],
   "source": [
    "# Charger le modèle GPT-2\n",
    "generator = pipeline('text-generation', model='gpt2')\n",
    "\n",
    "# Générer du texte à partir d'une invite\n",
    "text = generator(\"Once upon a time, there was a little girl who lived in a village near the forest. Whenever she went out, the little girl wore a red riding cloak, so everyone in the village called her Little Red Riding Hood.\", max_length=500, num_return_sequences=5)\n",
    "\n",
    "# Afficher le texte généré\n",
    "for t in text:\n",
    "    print(t['generated_text'])\n"
   ]
  },
  {
   "cell_type": "markdown",
   "id": "4b3a9327",
   "metadata": {},
   "source": [
    "# BERT"
   ]
  },
  {
   "cell_type": "markdown",
   "id": "70c5cb5c",
   "metadata": {},
   "source": [
    "BERT (Bidirectional Encoder Representations from Transformers) is a language model developed by Google that is trained on a large dataset of text from the internet. It uses a transformer architecture to encode text in a way that captures the context of words in a sentence. BERT can be fine-tuned for a variety of natural language processing tasks, such as text classification, named entity recognition, and sentiment analysis. It is particularly well-suited for tasks that require understanding the meaning of a sentence or the relationship between words in a sentence."
   ]
  },
  {
   "cell_type": "code",
   "execution_count": 42,
   "id": "2e3057e0",
   "metadata": {},
   "outputs": [
    {
     "data": {
      "application/vnd.jupyter.widget-view+json": {
       "model_id": "df74fa3684dc4466b49721b9ec1009b2",
       "version_major": 2,
       "version_minor": 0
      },
      "text/plain": [
       "config.json:   0%|          | 0.00/747 [00:00<?, ?B/s]"
      ]
     },
     "metadata": {},
     "output_type": "display_data"
    },
    {
     "name": "stderr",
     "output_type": "stream",
     "text": [
      "C:\\Users\\Catello\\anaconda3\\lib\\site-packages\\huggingface_hub\\file_download.py:149: UserWarning: `huggingface_hub` cache-system uses symlinks by default to efficiently store duplicated files but your machine does not support them in C:\\Users\\Catello\\.cache\\huggingface\\hub\\models--cardiffnlp--twitter-roberta-base-sentiment. Caching files will still work but in a degraded version that might require more space on your disk. This warning can be disabled by setting the `HF_HUB_DISABLE_SYMLINKS_WARNING` environment variable. For more details, see https://huggingface.co/docs/huggingface_hub/how-to-cache#limitations.\n",
      "To support symlinks on Windows, you either need to activate Developer Mode or to run Python as an administrator. In order to see activate developer mode, see this article: https://docs.microsoft.com/en-us/windows/apps/get-started/enable-your-device-for-development\n",
      "  warnings.warn(message)\n"
     ]
    },
    {
     "data": {
      "application/vnd.jupyter.widget-view+json": {
       "model_id": "a1eed7686993429e8b534d98b77742bf",
       "version_major": 2,
       "version_minor": 0
      },
      "text/plain": [
       "pytorch_model.bin:   0%|          | 0.00/499M [00:00<?, ?B/s]"
      ]
     },
     "metadata": {},
     "output_type": "display_data"
    },
    {
     "data": {
      "application/vnd.jupyter.widget-view+json": {
       "model_id": "da24115bc1214e1fbb5a31438edf88c0",
       "version_major": 2,
       "version_minor": 0
      },
      "text/plain": [
       "vocab.json:   0%|          | 0.00/899k [00:00<?, ?B/s]"
      ]
     },
     "metadata": {},
     "output_type": "display_data"
    },
    {
     "data": {
      "application/vnd.jupyter.widget-view+json": {
       "model_id": "b0744b7d77534930bc72d422d767aec3",
       "version_major": 2,
       "version_minor": 0
      },
      "text/plain": [
       "merges.txt:   0%|          | 0.00/456k [00:00<?, ?B/s]"
      ]
     },
     "metadata": {},
     "output_type": "display_data"
    },
    {
     "data": {
      "application/vnd.jupyter.widget-view+json": {
       "model_id": "bed18e2427b8497b9f8601570b63a89b",
       "version_major": 2,
       "version_minor": 0
      },
      "text/plain": [
       "special_tokens_map.json:   0%|          | 0.00/150 [00:00<?, ?B/s]"
      ]
     },
     "metadata": {},
     "output_type": "display_data"
    }
   ],
   "source": [
    "from transformers import AutoTokenizer, AutoModelForSequenceClassification\n",
    "\n",
    "# Load the pre-trained model and tokenizer\n",
    "model_name = 'cardiffnlp/twitter-roberta-base-sentiment'\n",
    "model = AutoModelForSequenceClassification.from_pretrained(model_name)\n",
    "tokenizer = AutoTokenizer.from_pretrained(model_name)"
   ]
  },
  {
   "cell_type": "markdown",
   "id": "841cf4ad",
   "metadata": {},
   "source": [
    "## Sentiment analysis\n",
    "\n",
    "Sentiment analysis is a subfield of Natural Language Processing (NLP) that involves determining the emotional tone behind words to gain an understanding of the attitudes, opinions, and emotions expressed within an online mention. It's also known as opinion mining or emotion AI."
   ]
  },
  {
   "cell_type": "code",
   "execution_count": 177,
   "id": "9701edac",
   "metadata": {},
   "outputs": [],
   "source": [
    "# Creating Dataset\n",
    "data = {\n",
    "    'Name': ['Alice', 'Bob', 'Charlie', 'Dave', 'Eve'],\n",
    "    'Age': [25, 30, 35, 40, 45],\n",
    "    'City': ['New York', 'Los Angeles', 'Chicago', 'Houston', 'Philadelphia'],\n",
    "    'Sentence': [\n",
    "        \"I love this product, it's amazing!\",\n",
    "        \"This is the worst product I have ever bought.\",\n",
    "        \"The customer service was excellent and they resolved my issue quickly.\",\n",
    "        \"I am disappointed with the quality of this item.\",\n",
    "        \"This product exceeded my expectations and I highly recommend it.\"\n",
    "    ]\n",
    "}\n",
    "\n",
    "# Create a pandas DataFrame\n",
    "df = pd.DataFrame(data)"
   ]
  },
  {
   "cell_type": "code",
   "execution_count": 178,
   "id": "c19a8c21",
   "metadata": {},
   "outputs": [
    {
     "data": {
      "text/html": [
       "<div>\n",
       "<style scoped>\n",
       "    .dataframe tbody tr th:only-of-type {\n",
       "        vertical-align: middle;\n",
       "    }\n",
       "\n",
       "    .dataframe tbody tr th {\n",
       "        vertical-align: top;\n",
       "    }\n",
       "\n",
       "    .dataframe thead th {\n",
       "        text-align: right;\n",
       "    }\n",
       "</style>\n",
       "<table border=\"1\" class=\"dataframe\">\n",
       "  <thead>\n",
       "    <tr style=\"text-align: right;\">\n",
       "      <th></th>\n",
       "      <th>Name</th>\n",
       "      <th>Age</th>\n",
       "      <th>City</th>\n",
       "      <th>Sentence</th>\n",
       "    </tr>\n",
       "  </thead>\n",
       "  <tbody>\n",
       "    <tr>\n",
       "      <th>0</th>\n",
       "      <td>Alice</td>\n",
       "      <td>25</td>\n",
       "      <td>New York</td>\n",
       "      <td>I love this product, it's amazing!</td>\n",
       "    </tr>\n",
       "    <tr>\n",
       "      <th>1</th>\n",
       "      <td>Bob</td>\n",
       "      <td>30</td>\n",
       "      <td>Los Angeles</td>\n",
       "      <td>This is the worst product I have ever bought.</td>\n",
       "    </tr>\n",
       "    <tr>\n",
       "      <th>2</th>\n",
       "      <td>Charlie</td>\n",
       "      <td>35</td>\n",
       "      <td>Chicago</td>\n",
       "      <td>The customer service was excellent and they resolved my issue quickly.</td>\n",
       "    </tr>\n",
       "    <tr>\n",
       "      <th>3</th>\n",
       "      <td>Dave</td>\n",
       "      <td>40</td>\n",
       "      <td>Houston</td>\n",
       "      <td>I am disappointed with the quality of this item.</td>\n",
       "    </tr>\n",
       "    <tr>\n",
       "      <th>4</th>\n",
       "      <td>Eve</td>\n",
       "      <td>45</td>\n",
       "      <td>Philadelphia</td>\n",
       "      <td>This product exceeded my expectations and I highly recommend it.</td>\n",
       "    </tr>\n",
       "  </tbody>\n",
       "</table>\n",
       "</div>"
      ],
      "text/plain": [
       "      Name  Age          City  \\\n",
       "0    Alice   25      New York   \n",
       "1      Bob   30   Los Angeles   \n",
       "2  Charlie   35       Chicago   \n",
       "3     Dave   40       Houston   \n",
       "4      Eve   45  Philadelphia   \n",
       "\n",
       "                                                                 Sentence  \n",
       "0                                      I love this product, it's amazing!  \n",
       "1                           This is the worst product I have ever bought.  \n",
       "2  The customer service was excellent and they resolved my issue quickly.  \n",
       "3                        I am disappointed with the quality of this item.  \n",
       "4        This product exceeded my expectations and I highly recommend it.  "
      ]
     },
     "execution_count": 178,
     "metadata": {},
     "output_type": "execute_result"
    }
   ],
   "source": [
    "df.head()"
   ]
  },
  {
   "cell_type": "code",
   "execution_count": 179,
   "id": "4ed27492",
   "metadata": {},
   "outputs": [],
   "source": [
    "# Create a function to predict sentiment\n",
    "def predict_sentiment(sentence):\n",
    "    # Tokenize the input sentence\n",
    "    inputs = tokenizer(sentence, return_tensors='pt', truncation=True, padding=True)\n",
    "    # Perform forward pass\n",
    "    outputs = model(**inputs)\n",
    "    # Get predicted probabilities\n",
    "    probs = outputs.logits.softmax(dim=1).detach().numpy()[0]\n",
    "    # Get predicted sentiment\n",
    "    predicted_sentiment = ['Negative', 'Neutral', 'Positive'][probs.argmax()]\n",
    "    return predicted_sentiment\n",
    "\n",
    "# Apply the function to each sentence in the DataFrame\n",
    "df['Sentiment'] = df['Sentence'].apply(predict_sentiment)"
   ]
  },
  {
   "cell_type": "code",
   "execution_count": 180,
   "id": "8df8e7ab",
   "metadata": {},
   "outputs": [
    {
     "data": {
      "text/html": [
       "<div>\n",
       "<style scoped>\n",
       "    .dataframe tbody tr th:only-of-type {\n",
       "        vertical-align: middle;\n",
       "    }\n",
       "\n",
       "    .dataframe tbody tr th {\n",
       "        vertical-align: top;\n",
       "    }\n",
       "\n",
       "    .dataframe thead th {\n",
       "        text-align: right;\n",
       "    }\n",
       "</style>\n",
       "<table border=\"1\" class=\"dataframe\">\n",
       "  <thead>\n",
       "    <tr style=\"text-align: right;\">\n",
       "      <th></th>\n",
       "      <th>Name</th>\n",
       "      <th>Age</th>\n",
       "      <th>City</th>\n",
       "      <th>Sentence</th>\n",
       "      <th>Sentiment</th>\n",
       "    </tr>\n",
       "  </thead>\n",
       "  <tbody>\n",
       "    <tr>\n",
       "      <th>0</th>\n",
       "      <td>Alice</td>\n",
       "      <td>25</td>\n",
       "      <td>New York</td>\n",
       "      <td>I love this product, it's amazing!</td>\n",
       "      <td>Positive</td>\n",
       "    </tr>\n",
       "    <tr>\n",
       "      <th>1</th>\n",
       "      <td>Bob</td>\n",
       "      <td>30</td>\n",
       "      <td>Los Angeles</td>\n",
       "      <td>This is the worst product I have ever bought.</td>\n",
       "      <td>Negative</td>\n",
       "    </tr>\n",
       "    <tr>\n",
       "      <th>2</th>\n",
       "      <td>Charlie</td>\n",
       "      <td>35</td>\n",
       "      <td>Chicago</td>\n",
       "      <td>The customer service was excellent and they resolved my issue quickly.</td>\n",
       "      <td>Positive</td>\n",
       "    </tr>\n",
       "    <tr>\n",
       "      <th>3</th>\n",
       "      <td>Dave</td>\n",
       "      <td>40</td>\n",
       "      <td>Houston</td>\n",
       "      <td>I am disappointed with the quality of this item.</td>\n",
       "      <td>Negative</td>\n",
       "    </tr>\n",
       "    <tr>\n",
       "      <th>4</th>\n",
       "      <td>Eve</td>\n",
       "      <td>45</td>\n",
       "      <td>Philadelphia</td>\n",
       "      <td>This product exceeded my expectations and I highly recommend it.</td>\n",
       "      <td>Positive</td>\n",
       "    </tr>\n",
       "  </tbody>\n",
       "</table>\n",
       "</div>"
      ],
      "text/plain": [
       "      Name  Age          City  \\\n",
       "0    Alice   25      New York   \n",
       "1      Bob   30   Los Angeles   \n",
       "2  Charlie   35       Chicago   \n",
       "3     Dave   40       Houston   \n",
       "4      Eve   45  Philadelphia   \n",
       "\n",
       "                                                                 Sentence  \\\n",
       "0                                      I love this product, it's amazing!   \n",
       "1                           This is the worst product I have ever bought.   \n",
       "2  The customer service was excellent and they resolved my issue quickly.   \n",
       "3                        I am disappointed with the quality of this item.   \n",
       "4        This product exceeded my expectations and I highly recommend it.   \n",
       "\n",
       "  Sentiment  \n",
       "0  Positive  \n",
       "1  Negative  \n",
       "2  Positive  \n",
       "3  Negative  \n",
       "4  Positive  "
      ]
     },
     "execution_count": 180,
     "metadata": {},
     "output_type": "execute_result"
    }
   ],
   "source": [
    "pd.options.display.max_colwidth = None\n",
    "df"
   ]
  },
  {
   "cell_type": "markdown",
   "id": "0e87e9ab",
   "metadata": {},
   "source": [
    "## ChatGPT"
   ]
  },
  {
   "cell_type": "code",
   "execution_count": 210,
   "id": "7481022c",
   "metadata": {},
   "outputs": [],
   "source": [
    "import openai"
   ]
  },
  {
   "cell_type": "code",
   "execution_count": 208,
   "id": "ab83d6d8",
   "metadata": {},
   "outputs": [
    {
     "name": "stdout",
     "output_type": "stream",
     "text": [
      "Clé API chargée avec succès\n"
     ]
    }
   ],
   "source": [
    "import json\n",
    "file_path = r\"C:\\Users\\Catello\\Desktop\\Protfolio\\prompt_engineering\\api_key.json\"\n",
    "\n",
    "with open(file_path, \"r\") as json_file:\n",
    "    api_key_dict = json.load(json_file)\n",
    "\n",
    "api_key = api_key_dict[\"api_key\"]\n",
    "openai.api_key = api_key\n",
    "\n",
    "print(\"Clé API chargée avec succès\")"
   ]
  },
  {
   "cell_type": "code",
   "execution_count": 212,
   "id": "a587d129",
   "metadata": {},
   "outputs": [],
   "source": [
    "def get_gpt_response(prompt, max_tokens=200):\n",
    "    prompt = f\"Answer the following question: {prompt}\\nAnswer:\"\n",
    "    response = openai.ChatCompletion.create(\n",
    "        model=\"gpt-3.5-turbo-1106\",\n",
    "        messages=[{\"role\": \"system\", \"content\": prompt}],\n",
    "        max_tokens=500,\n",
    "        temperature=0.7,\n",
    "    )\n",
    "    return response['choices'][0]['message']['content'].strip()\n"
   ]
  },
  {
   "cell_type": "markdown",
   "id": "6032d0ab",
   "metadata": {},
   "source": [
    "### Answering questions"
   ]
  },
  {
   "cell_type": "code",
   "execution_count": 194,
   "id": "991f1c72",
   "metadata": {},
   "outputs": [
    {
     "name": "stdout",
     "output_type": "stream",
     "text": [
      "Crafting effective prompts involves several key components. First, the prompt should be clear and specific, providing enough information for the respondent to understand what is being asked of them. It should also be concise and to the point, avoiding any unnecessary or confusing language.\n",
      "\n",
      "Second, the prompt should be relevant and meaningful to the respondent, tapping into their interests, experiences, or expertise. This can help to motivate the respondent to engage with the prompt and provide thoughtful, meaningful responses.\n",
      "\n",
      "Third, the prompt should be open-ended, allowing for a range of possible responses. This can encourage creativity and diversity in the responses, leading to a more rich and varied dataset.\n",
      "\n",
      "Finally, the prompt should be designed with the end goal in mind, ensuring that the responses gathered will be useful and actionable. This may involve considering the specific information or insights that are needed, and crafting the prompt to elicit those types of responses.\n",
      "\n",
      "Overall, crafting effective prompts involves careful consideration of the language, relevance, openness, and purpose of the prompt, in order to encourage meaningful and valuable responses from the respondent.\n"
     ]
    }
   ],
   "source": [
    "prompt = \"How to Craft Effective Prompts?\"\n",
    "response = get_gpt_response(prompt)\n",
    "print(response)"
   ]
  },
  {
   "cell_type": "code",
   "execution_count": 205,
   "id": "770ee111",
   "metadata": {},
   "outputs": [],
   "source": [
    "result = df['Sentiment'].value_counts()"
   ]
  },
  {
   "cell_type": "markdown",
   "id": "3dfb98d1",
   "metadata": {},
   "source": [
    "### Commenting results"
   ]
  },
  {
   "cell_type": "code",
   "execution_count": 213,
   "id": "005d3450",
   "metadata": {},
   "outputs": [
    {
     "name": "stdout",
     "output_type": "stream",
     "text": [
      "The result \"Sentiment Positive 3, Negative 2\" indicates that there are 3 positive sentiments and 2 negative sentiments in the dataset. This suggests that the overall sentiment of the dataset is slightly more positive than negative.\n"
     ]
    }
   ],
   "source": [
    "result = df['Sentiment'].value_counts()\n",
    "prompt = f\"Comment the result {result}?\"\n",
    "response = get_gpt_response(prompt)\n",
    "print(response)"
   ]
  }
 ],
 "metadata": {
  "kernelspec": {
   "display_name": "Python 3 (ipykernel)",
   "language": "python",
   "name": "python3"
  },
  "language_info": {
   "codemirror_mode": {
    "name": "ipython",
    "version": 3
   },
   "file_extension": ".py",
   "mimetype": "text/x-python",
   "name": "python",
   "nbconvert_exporter": "python",
   "pygments_lexer": "ipython3",
   "version": "3.9.13"
  }
 },
 "nbformat": 4,
 "nbformat_minor": 5
}
